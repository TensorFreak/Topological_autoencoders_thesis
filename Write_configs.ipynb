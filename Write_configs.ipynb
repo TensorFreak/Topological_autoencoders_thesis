{
 "cells": [
  {
   "cell_type": "code",
   "execution_count": 1,
   "id": "387a5e08-d74e-44df-bfa0-c03ea981ce46",
   "metadata": {},
   "outputs": [],
   "source": [
    "import json"
   ]
  },
  {
   "cell_type": "code",
   "execution_count": 10,
   "id": "f3d0f7d6-9640-41c5-9f6e-32ce7556b315",
   "metadata": {},
   "outputs": [],
   "source": [
    "baseline_config = {\n",
    "    'experiment_name': 'baseline',\n",
    "    'distance_metric': 'correlation', # or 'correlation'\n",
    "    'arch_config': {\n",
    "        'input_dim': 554,\n",
    "        'layers_dims': [500, 300, 100],\n",
    "        'activation': \"relu\"\n",
    "    },\n",
    "    'model_config': {\n",
    "        'complex_max_dim': 1,\n",
    "        'min_persistence': None,\n",
    "        'top_loss_dims': [0, 1],\n",
    "        'dims_weights': [1],\n",
    "        'lam': 0.3\n",
    "    },\n",
    "    'training_config': {\n",
    "        'learning_rate': 0.001,\n",
    "        'epochs': 50,\n",
    "        'data_path': 'neural_data/22ht1.csv',\n",
    "        'train_size': 0.7,\n",
    "        'val_size': 0.15,\n",
    "        'batch_size': 128,\n",
    "        'data_seed': 42\n",
    "    }\n",
    "}\n",
    "\n",
    "with open('baseline.json', 'w') as f:\n",
    "    json.dump(baseline_config, f)"
   ]
  },
  {
   "cell_type": "code",
   "execution_count": 21,
   "id": "6c9677f9-89c9-49cf-879d-6c6a12de2759",
   "metadata": {},
   "outputs": [],
   "source": [
    "new_config = {\n",
    "    'experiment_name': 'new',\n",
    "    'arch_config': {\n",
    "        'input_dim': 554,\n",
    "        'layers_dims': [500, 300, 100],\n",
    "        'activation': \"elu\"\n",
    "    },\n",
    "    'model_config': {\n",
    "        'complex_max_dim': 1,\n",
    "        'min_persistence': 0.5,\n",
    "        'top_loss_dims': [0, 1],\n",
    "        'dims_weights': [1, 0.1],\n",
    "        'lam': 0.5\n",
    "    },\n",
    "    'training_config': {\n",
    "        'learning_rate': 0.001,\n",
    "        'epochs': 100,\n",
    "        'data_path': 'neural_data/22ht1.csv',\n",
    "        'train_size': 0.7,\n",
    "        'val_size': 0.15,\n",
    "        'batch_size': 128,\n",
    "        'data_seed': 42\n",
    "    }\n",
    "}\n",
    "\n",
    "with open('new.json', 'w') as f:\n",
    "    json.dump(new_config, f)"
   ]
  },
  {
   "cell_type": "code",
   "execution_count": null,
   "id": "70278dbd-4728-444f-aa56-770f961a2037",
   "metadata": {},
   "outputs": [],
   "source": []
  }
 ],
 "metadata": {
  "kernelspec": {
   "display_name": "TopoAE-kernel",
   "language": "python",
   "name": "topoae-kernel"
  },
  "language_info": {
   "codemirror_mode": {
    "name": "ipython",
    "version": 3
   },
   "file_extension": ".py",
   "mimetype": "text/x-python",
   "name": "python",
   "nbconvert_exporter": "python",
   "pygments_lexer": "ipython3",
   "version": "3.9.21"
  }
 },
 "nbformat": 4,
 "nbformat_minor": 5
}
